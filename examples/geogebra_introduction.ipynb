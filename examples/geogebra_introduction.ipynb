{
 "metadata": {
  "name": "",
  "signature": "sha256:276cd19860bd37b3a5f7f03a2d066048b3e59f77dffd5e955f8952af3f4357aa"
 },
 "nbformat": 3,
 "nbformat_minor": 0,
 "worksheets": [
  {
   "cells": [
    {
     "cell_type": "heading",
     "level": 3,
     "metadata": {},
     "source": [
      "Embedding GeoGebra files in IPython notebook"
     ]
    },
    {
     "cell_type": "markdown",
     "metadata": {},
     "source": [
      "The following notebook is inspired by [this ipython-asymptote notebook](http://nbviewer.ipython.org/github/azjps/ipython-asymptote/blob/master/examples/asymptote_magic_examples.ipynb)."
     ]
    },
    {
     "cell_type": "markdown",
     "metadata": {},
     "source": [
      "GeoGebra is an open source geometry software."
     ]
    },
    {
     "cell_type": "markdown",
     "metadata": {},
     "source": [
      "This page is a IPython notebook, which is essentially a python shell with a HTML-based UI backend. Instructions for downloading and installing the IPython notebook are located [here](http://ipython.org/install.html). Notebooks offer a large array of features, such as being able to run commands and display output for programming languages outside of python, and makes developing scripts incrementally and saving intermediate output very easy. Since we can execute arbitrary HTML and JavaScript code in an IPython notebook, we have the capability to embed GeoGebra applets!"
     ]
    },
    {
     "cell_type": "markdown",
     "metadata": {},
     "source": [
      "A given code cell can be run with the keys `<Shift>`+`<Enter>` or the $\\blacktriangleright$ button. Commands entered into a IPython cell starting with percent signs ('%') indicate to IPython to use a [IPython magic](http://nbviewer.ipython.org/github/ipython/ipython/blob/1.x/examples/notebooks/Cell%20Magics.ipynb). The GeoGebra IPython magic is a  IPython magic which can display Java and (eventually) HTML5 GeoGebra applets."
     ]
    },
    {
     "cell_type": "code",
     "collapsed": false,
     "input": [
      "%load_ext autoreload\n",
      "%autoreload 2"
     ],
     "language": "python",
     "metadata": {},
     "outputs": []
    },
    {
     "cell_type": "code",
     "collapsed": false,
     "input": [
      "%install_ext ../pyggb/geogebra_magic.py"
     ],
     "language": "python",
     "metadata": {},
     "outputs": [
      {
       "output_type": "stream",
       "stream": "stdout",
       "text": [
        "Installed geogebra_magic.py. To use it, type:\n",
        "  %load_ext geogebra_magic\n"
       ]
      }
     ],
     "prompt_number": 2
    },
    {
     "cell_type": "code",
     "collapsed": false,
     "input": [
      "import sys; sys.path.append('../pyggb')"
     ],
     "language": "python",
     "metadata": {},
     "outputs": [],
     "prompt_number": 3
    },
    {
     "cell_type": "code",
     "collapsed": false,
     "input": [
      "%reload_ext geogebra_magic"
     ],
     "language": "python",
     "metadata": {},
     "outputs": [],
     "prompt_number": 4
    },
    {
     "cell_type": "code",
     "collapsed": false,
     "input": [
      "%ggb?"
     ],
     "language": "python",
     "metadata": {},
     "outputs": [],
     "prompt_number": 5
    },
    {
     "cell_type": "code",
     "collapsed": false,
     "input": [
      "%ggb --width 650 --height 450 --showToolBar 1 --showResetIcon 1 star.ggb"
     ],
     "language": "python",
     "metadata": {},
     "outputs": [
      {
       "html": [
        "<applet archive=\"http://www.geogebra.org/webstart/4.2/geogebra.jar\" code=\"geogebra.GeoGebraApplet\" codebase=\"http://www.geogebra.org/webstart/4.2/unsigned/\" height=\"450\" id=\"ggb_applet_1\" width=\"650\">Sorry, the GeoGebra Applet could not be started.\n",
        "Please make sure that Java 1.4.2 (or later) is installed and activated.\n",
        "(&lt;a href=\"http://java.sun.com/getjava\"&gt;Click here to install Java now&lt;/a&gt;)<param name=\"showToolBar\" value=\"true\" />\n",
        "  <param name=\"showResetIcon\" value=\"true\" />\n",
        "  <param name=\"filename\" value=\"star.ggb\" />\n",
        "  <param name=\"java_arguments\" value=\"-Xmx512m -Djnlp.packEnabled=true\" />\n",
        "  <param name=\"image\" value=\"http://www.geogebra.org/webstart/loading.gif\" />\n",
        "</applet>\n"
       ],
       "metadata": {},
       "output_type": "pyout",
       "prompt_number": 6,
       "text": [
        "<IPython.core.display.HTML at 0x3975a90>"
       ]
      }
     ],
     "prompt_number": 6
    },
    {
     "cell_type": "code",
     "collapsed": false,
     "input": [
      "%ggb --width 650 --height 450 noexist.ggb"
     ],
     "language": "python",
     "metadata": {},
     "outputs": [
      {
       "html": [
        "<applet archive=\"http://www.geogebra.org/webstart/4.2/geogebra.jar\" code=\"geogebra.GeoGebraApplet\" codebase=\"http://www.geogebra.org/webstart/4.2/unsigned/\" height=\"450\" id=\"ggb_applet_2\" width=\"650\">Sorry, the GeoGebra Applet could not be started.\n",
        "Please make sure that Java 1.4.2 (or later) is installed and activated.\n",
        "(&lt;a href=\"http://java.sun.com/getjava\"&gt;Click here to install Java now&lt;/a&gt;)<param name=\"filename\" value=\"noexist.ggb\" />\n",
        "  <param name=\"java_arguments\" value=\"-Xmx512m -Djnlp.packEnabled=true\" />\n",
        "  <param name=\"image\" value=\"http://www.geogebra.org/webstart/loading.gif\" />\n",
        "</applet>\n"
       ],
       "metadata": {},
       "output_type": "pyout",
       "prompt_number": 7,
       "text": [
        "<IPython.core.display.HTML at 0x39764e0>"
       ]
      }
     ],
     "prompt_number": 7
    },
    {
     "cell_type": "code",
     "collapsed": false,
     "input": [
      "from IPython.display import HTML, Javascript"
     ],
     "language": "python",
     "metadata": {},
     "outputs": [],
     "prompt_number": 8
    },
    {
     "cell_type": "code",
     "collapsed": false,
     "input": [
      "Javascript(\"\"\"\n",
      "document.getElementById(\"ggb_applet_2\").evalCommand(\"Circle[(0,0), 1]\")\n",
      "\"\"\")"
     ],
     "language": "python",
     "metadata": {},
     "outputs": [
      {
       "javascript": [
        "\n",
        "document.getElementById(\"ggb_applet_2\").evalCommand(\"Circle[(0,0), 1]\")\n"
       ],
       "metadata": {},
       "output_type": "pyout",
       "prompt_number": 11,
       "text": [
        "<IPython.core.display.Javascript at 0x3975eb8>"
       ]
      }
     ],
     "prompt_number": 11
    },
    {
     "cell_type": "code",
     "collapsed": false,
     "input": [
      "\"\"\"\n",
      "function on_applet_load() {\n",
      "  document.getElementById(\"ggb_applet_2\").evalCommand(\"Circle[(0,0),1]\");\n",
      "}\n",
      "console.log(document.getElementById(\"ggb_applet_2\").status)\n",
      "document.getElementById(\"ggb_applet_2\").onLoad(on_applet_load)\n",
      "\"\"\""
     ],
     "language": "python",
     "metadata": {},
     "outputs": [
      {
       "metadata": {},
       "output_type": "pyout",
       "prompt_number": 10,
       "text": [
        "'\\nfunction on_applet_load() {\\n  document.getElementById(\"ggb_applet2\").evalCommand(\"Circle[(0,0),1]\");\\n}\\nconsole.log(document.getElementById(\"ggb_applet2\").status)\\ndocument.getElementById(\"ggb_applet2\").onLoad(on_applet_load)\\n'"
       ]
      }
     ],
     "prompt_number": 10
    },
    {
     "cell_type": "code",
     "collapsed": false,
     "input": [],
     "language": "python",
     "metadata": {},
     "outputs": [],
     "prompt_number": 10
    }
   ],
   "metadata": {}
  }
 ]
}